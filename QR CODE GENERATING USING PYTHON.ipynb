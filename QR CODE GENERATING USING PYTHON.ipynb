{
 "cells": [
  {
   "cell_type": "code",
   "execution_count": 1,
   "id": "32a7b53b",
   "metadata": {},
   "outputs": [],
   "source": [
    "# Import QRCode from pyqrcode\n",
    "import pyqrcode\n",
    "import png\n",
    "from pyqrcode import QRCode\n",
    "\n",
    "\n",
    "# String which represents the QR code\n",
    "s = \"www.entri.app\"\n",
    "\n",
    "# Generate QR code\n",
    "url = pyqrcode.create(s)\n",
    "\n",
    "# Create and save the svg file naming \"myqr.svg\"\n",
    "url.svg(\"myqr.svg\", scale = 8)\n",
    "\n",
    "# Create and save the png file naming \"myqr.png\"\n",
    "url.png('myqr.png', scale = 6)"
   ]
  },
  {
   "cell_type": "code",
   "execution_count": null,
   "id": "95966aa8",
   "metadata": {},
   "outputs": [],
   "source": []
  }
 ],
 "metadata": {
  "kernelspec": {
   "display_name": "Python 3 (ipykernel)",
   "language": "python",
   "name": "python3"
  },
  "language_info": {
   "codemirror_mode": {
    "name": "ipython",
    "version": 3
   },
   "file_extension": ".py",
   "mimetype": "text/x-python",
   "name": "python",
   "nbconvert_exporter": "python",
   "pygments_lexer": "ipython3",
   "version": "3.10.9"
  }
 },
 "nbformat": 4,
 "nbformat_minor": 5
}
